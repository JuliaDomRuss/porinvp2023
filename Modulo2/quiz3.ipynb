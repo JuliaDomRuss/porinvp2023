{
 "cells": [
  {
   "cell_type": "code",
   "execution_count": 1,
   "id": "5777f9c4",
   "metadata": {},
   "outputs": [
    {
     "data": {
      "text/plain": [
       "(0.6666666666666666, 0.3333333333333333)"
      ]
     },
     "execution_count": 1,
     "metadata": {},
     "output_type": "execute_result"
    }
   ],
   "source": [
    "c_total = 120 * 50 + 150 * 20\n",
    "w_xyz = 120 * 50 / c_total\n",
    "w_abc = 150 * 20 / c_total\n",
    "w_xyz, w_abc"
   ]
  },
  {
   "cell_type": "markdown",
   "id": "a7af5a88",
   "metadata": {},
   "source": [
    "El rendimiento esperado de XYZ es del 12%, y una desviación estándar del 9%. ABC tiene un rendimiento esperado del 18%, y desviación estándar del 25%. ¿Cuál es el rendimiento esperado en un portafolio cuyos pesos son wXYZ=0.3 y wABC=0.7?"
   ]
  },
  {
   "cell_type": "code",
   "execution_count": 2,
   "id": "4804e954",
   "metadata": {},
   "outputs": [
    {
     "data": {
      "text/plain": [
       "0.162"
      ]
     },
     "execution_count": 2,
     "metadata": {},
     "output_type": "execute_result"
    }
   ],
   "source": [
    "er_xyz = 0.12\n",
    "er_abc = 0.18\n",
    "s_xyz = 0.09\n",
    "s_abc = 0.25\n",
    "w_xyz = 0.3\n",
    "w_abc = 0.7\n",
    "er_p = w_abc * er_abc + w_xyz * er_xyz\n",
    "er_p"
   ]
  },
  {
   "cell_type": "code",
   "execution_count": 3,
   "id": "378c229a",
   "metadata": {},
   "outputs": [
    {
     "data": {
      "text/plain": [
       "0.1823293722909175"
      ]
     },
     "execution_count": 3,
     "metadata": {},
     "output_type": "execute_result"
    }
   ],
   "source": [
    "s_p = (\n",
    "    (w_xyz * s_xyz)**2\n",
    "    + (w_abc * s_abc)**2\n",
    "    + 2 * w_abc * w_xyz * 0.2 * s_abc * s_xyz\n",
    ")**0.5\n",
    "s_p"
   ]
  },
  {
   "cell_type": "code",
   "execution_count": null,
   "id": "e8809746",
   "metadata": {},
   "outputs": [],
   "source": []
  }
 ],
 "metadata": {
  "kernelspec": {
   "display_name": "Python 3 (ipykernel)",
   "language": "python",
   "name": "python3"
  },
  "language_info": {
   "codemirror_mode": {
    "name": "ipython",
    "version": 3
   },
   "file_extension": ".py",
   "mimetype": "text/x-python",
   "name": "python",
   "nbconvert_exporter": "python",
   "pygments_lexer": "ipython3",
   "version": "3.9.13"
  }
 },
 "nbformat": 4,
 "nbformat_minor": 5
}
