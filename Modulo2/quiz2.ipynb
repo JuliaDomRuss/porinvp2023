{
 "cells": [
  {
   "cell_type": "markdown",
   "id": "abe55f29",
   "metadata": {},
   "source": [
    "Considere la siguiente distribución de rendimientos de los activos A, B y C:\n",
    "\n",
    "Probabilidad\tRendimiento A\tRendimiento B\tRendimiento C\n",
    "20%\t-0.20\t-0.05\t0.05\n",
    "30%\t0.05\t0.10\t0.03\n",
    "50%\t0.40\t0.15\t0.02\n",
    "Calcule el rendimiento esperado de un portafolio compuesto 40% por el activo A, 40% por el activo B y 20% por el activo C."
   ]
  },
  {
   "cell_type": "code",
   "execution_count": 1,
   "id": "fcf811fb",
   "metadata": {},
   "outputs": [],
   "source": [
    "import pandas as pd"
   ]
  },
  {
   "cell_type": "code",
   "execution_count": 7,
   "id": "e3a74953",
   "metadata": {},
   "outputs": [],
   "source": [
    "tabla = pd.DataFrame({\n",
    "    \"prob\": [0.2, 0.3, 0.5],\n",
    "    \"a\": [-0.2, 0.05, 0.4],\n",
    "    \"b\": [-0.05, 0.1, 0.15],\n",
    "    \"c\": [0.05, 0.03, 0.02]\n",
    "})"
   ]
  },
  {
   "cell_type": "code",
   "execution_count": 8,
   "id": "3ad453ff",
   "metadata": {},
   "outputs": [
    {
     "data": {
      "text/html": [
       "<div>\n",
       "<style scoped>\n",
       "    .dataframe tbody tr th:only-of-type {\n",
       "        vertical-align: middle;\n",
       "    }\n",
       "\n",
       "    .dataframe tbody tr th {\n",
       "        vertical-align: top;\n",
       "    }\n",
       "\n",
       "    .dataframe thead th {\n",
       "        text-align: right;\n",
       "    }\n",
       "</style>\n",
       "<table border=\"1\" class=\"dataframe\">\n",
       "  <thead>\n",
       "    <tr style=\"text-align: right;\">\n",
       "      <th></th>\n",
       "      <th>prob</th>\n",
       "      <th>a</th>\n",
       "      <th>b</th>\n",
       "      <th>c</th>\n",
       "    </tr>\n",
       "  </thead>\n",
       "  <tbody>\n",
       "    <tr>\n",
       "      <th>0</th>\n",
       "      <td>0.2</td>\n",
       "      <td>-0.20</td>\n",
       "      <td>-0.05</td>\n",
       "      <td>0.05</td>\n",
       "    </tr>\n",
       "    <tr>\n",
       "      <th>1</th>\n",
       "      <td>0.3</td>\n",
       "      <td>0.05</td>\n",
       "      <td>0.10</td>\n",
       "      <td>0.03</td>\n",
       "    </tr>\n",
       "    <tr>\n",
       "      <th>2</th>\n",
       "      <td>0.5</td>\n",
       "      <td>0.40</td>\n",
       "      <td>0.15</td>\n",
       "      <td>0.02</td>\n",
       "    </tr>\n",
       "  </tbody>\n",
       "</table>\n",
       "</div>"
      ],
      "text/plain": [
       "   prob     a     b     c\n",
       "0   0.2 -0.20 -0.05  0.05\n",
       "1   0.3  0.05  0.10  0.03\n",
       "2   0.5  0.40  0.15  0.02"
      ]
     },
     "execution_count": 8,
     "metadata": {},
     "output_type": "execute_result"
    }
   ],
   "source": [
    "tabla"
   ]
  },
  {
   "cell_type": "code",
   "execution_count": 9,
   "id": "5e5409b6",
   "metadata": {},
   "outputs": [
    {
     "data": {
      "text/plain": [
       "(0.175, 0.095, 0.029000000000000005)"
      ]
     },
     "execution_count": 9,
     "metadata": {},
     "output_type": "execute_result"
    }
   ],
   "source": [
    "era = (tabla[\"prob\"] * tabla[\"a\"]).sum()\n",
    "erb = (tabla[\"prob\"] * tabla[\"b\"]).sum()\n",
    "erc = (tabla[\"prob\"] * tabla[\"c\"]).sum()\n",
    "era, erb, erc"
   ]
  },
  {
   "cell_type": "code",
   "execution_count": 10,
   "id": "8680cf67",
   "metadata": {},
   "outputs": [
    {
     "data": {
      "text/plain": [
       "0.1138"
      ]
     },
     "execution_count": 10,
     "metadata": {},
     "output_type": "execute_result"
    }
   ],
   "source": [
    "0.4 * era + 0.4 * erb + 0.2 * erc"
   ]
  },
  {
   "cell_type": "code",
   "execution_count": 11,
   "id": "876f53f8",
   "metadata": {},
   "outputs": [
    {
     "data": {
      "text/plain": [
       "0.09966666666666668"
      ]
     },
     "execution_count": 11,
     "metadata": {},
     "output_type": "execute_result"
    }
   ],
   "source": [
    "(era + erb + erc) / 3"
   ]
  },
  {
   "cell_type": "markdown",
   "id": "a4558bf6",
   "metadata": {},
   "source": [
    "Un inversionista tiene un capital total para invertir de $50,000, y quiere invertir en un portafolio con tres activos A, B y C, cuyos rendimientos esperados son E[RA]=20%, E[RB]=15% y E[RC]=17%, respectivamente. Si el inversionista elige invertir $5,000 en el activo A, $22,500 en el activo B y $22,500 en el activo C, ¿cuál es el rendimiento esperado de su portafolio?\n",
    "Grupo de opciones de respuesta\n",
    "\n"
   ]
  },
  {
   "cell_type": "code",
   "execution_count": 12,
   "id": "e6590256",
   "metadata": {},
   "outputs": [],
   "source": [
    "era, erb, erc = 0.2, 0.15, 0.17"
   ]
  },
  {
   "cell_type": "code",
   "execution_count": 13,
   "id": "3fbf5b0f",
   "metadata": {},
   "outputs": [],
   "source": [
    "wa, wb, wc = 5 / 50, 22.5 / 50, 22.5 / 50"
   ]
  },
  {
   "cell_type": "code",
   "execution_count": 14,
   "id": "55bc24cd",
   "metadata": {},
   "outputs": [
    {
     "data": {
      "text/plain": [
       "0.16400000000000003"
      ]
     },
     "execution_count": 14,
     "metadata": {},
     "output_type": "execute_result"
    }
   ],
   "source": [
    "wa * era + wb * erb + wc * erc"
   ]
  },
  {
   "cell_type": "code",
   "execution_count": 15,
   "id": "17a4b3d9",
   "metadata": {},
   "outputs": [],
   "source": [
    "wa, wb, wc = 10 / 50, 20 / 50, 20 / 50"
   ]
  },
  {
   "cell_type": "code",
   "execution_count": 16,
   "id": "1ec66bf0",
   "metadata": {},
   "outputs": [
    {
     "data": {
      "text/plain": [
       "0.168"
      ]
     },
     "execution_count": 16,
     "metadata": {},
     "output_type": "execute_result"
    }
   ],
   "source": [
    "wa * era + wb * erb + wc * erc"
   ]
  },
  {
   "cell_type": "markdown",
   "id": "7ffec0cf",
   "metadata": {},
   "source": [
    "Considere la siguiente distribución de rendimientos de los activos A, B y C:\n",
    "\n",
    "Probabilidad\tRendimiento A\tRendimiento B\tRendimiento C\n",
    "20%\t-0.20\t-0.05\t0.05\n",
    "30%\t0.05\t0.10\t0.03\n",
    "50%\t0.40\t0.15\t0.02\n",
    "¿Cuáles de las siguientes medidas de covarianza son correctas? (Se deben elegir todas las que sean correctas)"
   ]
  },
  {
   "cell_type": "code",
   "execution_count": 17,
   "id": "4281850a",
   "metadata": {},
   "outputs": [
    {
     "data": {
      "text/plain": [
       "(0.175, 0.095, 0.029000000000000005)"
      ]
     },
     "execution_count": 17,
     "metadata": {},
     "output_type": "execute_result"
    }
   ],
   "source": [
    "era = (tabla[\"prob\"] * tabla[\"a\"]).sum()\n",
    "erb = (tabla[\"prob\"] * tabla[\"b\"]).sum()\n",
    "erc = (tabla[\"prob\"] * tabla[\"c\"]).sum()\n",
    "era, erb, erc"
   ]
  },
  {
   "cell_type": "code",
   "execution_count": 19,
   "id": "458791c7",
   "metadata": {},
   "outputs": [
    {
     "data": {
      "text/plain": [
       "(0.016875, -0.0026250000000000006, -0.0008550000000000002)"
      ]
     },
     "execution_count": 19,
     "metadata": {},
     "output_type": "execute_result"
    }
   ],
   "source": [
    "sab = (tabla[\"prob\"] * (tabla[\"a\"] - era) * (tabla[\"b\"] - erb)).sum()\n",
    "sac = (tabla[\"prob\"] * (tabla[\"a\"] - era) * (tabla[\"c\"] - erc)).sum()\n",
    "scb = (tabla[\"prob\"] * (tabla[\"c\"] - erc) * (tabla[\"b\"] - erb)).sum()\n",
    "sab, sac, scb"
   ]
  },
  {
   "cell_type": "code",
   "execution_count": 25,
   "id": "52b86fa0",
   "metadata": {},
   "outputs": [
    {
     "data": {
      "text/plain": [
       "(0.2410912690248239, 0.07566372975210779, 0.011357816691600547)"
      ]
     },
     "execution_count": 25,
     "metadata": {},
     "output_type": "execute_result"
    }
   ],
   "source": [
    "sa = (tabla[\"prob\"] * (tabla[\"a\"] - era)**2).sum()**0.5\n",
    "sb = (tabla[\"prob\"] * (tabla[\"b\"] - erb)**2).sum()**0.5\n",
    "sc = (tabla[\"prob\"] * (tabla[\"c\"] - erc)**2).sum()**0.5\n",
    "sa, sb, sc"
   ]
  },
  {
   "cell_type": "code",
   "execution_count": 28,
   "id": "19dc5dde",
   "metadata": {},
   "outputs": [],
   "source": [
    "sa, sb, sc = 0.2411, 0.0757, 0.0114"
   ]
  },
  {
   "cell_type": "code",
   "execution_count": 29,
   "id": "8ce57134",
   "metadata": {},
   "outputs": [
    {
     "data": {
      "text/plain": [
       "(0.9245931926928921, -0.9550525006003189, -0.9907529722589169)"
      ]
     },
     "execution_count": 29,
     "metadata": {},
     "output_type": "execute_result"
    }
   ],
   "source": [
    "rab = sab / (sa * sb)\n",
    "rac = sac / (sa * sc)\n",
    "rcb = scb / (sc * sb)\n",
    "rab, rac, rcb"
   ]
  },
  {
   "cell_type": "code",
   "execution_count": null,
   "id": "9d9287fe",
   "metadata": {},
   "outputs": [],
   "source": []
  }
 ],
 "metadata": {
  "kernelspec": {
   "display_name": "Python 3 (ipykernel)",
   "language": "python",
   "name": "python3"
  },
  "language_info": {
   "codemirror_mode": {
    "name": "ipython",
    "version": 3
   },
   "file_extension": ".py",
   "mimetype": "text/x-python",
   "name": "python",
   "nbconvert_exporter": "python",
   "pygments_lexer": "ipython3",
   "version": "3.9.13"
  }
 },
 "nbformat": 4,
 "nbformat_minor": 5
}
