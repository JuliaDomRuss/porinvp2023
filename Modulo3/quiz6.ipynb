{
 "cells": [
  {
   "cell_type": "code",
   "execution_count": null,
   "id": "a6ab4a5a",
   "metadata": {},
   "outputs": [],
   "source": [
    "Considere las siguientes inversiones\n",
    "\n",
    "Inversión\tRendimiento esperadoE[r]\tDesviación estándar σ\n",
    "A\t20%\t30%\n",
    "B\t13%\t15%\n",
    "C\t23%\t45%\n",
    "¿Cuál inversión brinda más utilidad, si tus preferencias están representadas por la utilidad media-varianza y tu coeficiente de aversión al riesgo es 3?"
   ]
  },
  {
   "cell_type": "code",
   "execution_count": 1,
   "id": "37f1f88a",
   "metadata": {},
   "outputs": [],
   "source": [
    "era = 0.2\n",
    "erb = 0.13\n",
    "erc = 0.23\n",
    "sa = 0.3\n",
    "sb = 0.15\n",
    "sc = 0.45"
   ]
  },
  {
   "cell_type": "code",
   "execution_count": 2,
   "id": "2a587c81",
   "metadata": {},
   "outputs": [
    {
     "data": {
      "text/plain": [
       "(0.065, 0.09625, -0.07375000000000001)"
      ]
     },
     "execution_count": 2,
     "metadata": {},
     "output_type": "execute_result"
    }
   ],
   "source": [
    "ua = era - 0.5 * 3 * sa**2\n",
    "ub = erb - 0.5 * 3 * sb**2\n",
    "uc = erc - 0.5 * 3 * sc**2\n",
    "ua, ub, uc"
   ]
  },
  {
   "cell_type": "markdown",
   "id": "e4df1b80",
   "metadata": {},
   "source": [
    "Tu asesor financiero te ofrece un portafolio de activos de la BMV con un rendimiento esperado del 20% y una desviación estándar del 30%. Supón que en ese mismo momento, puedes comprar cetes ofreciendo un rendimiento del 5% libre de riesgo. Supón también que tus preferencias se pueden describir mediante utilidad media-varianza y que tu coeficiente de aversión al riesgo es de γ=2. ¿Qué preferirías?\n",
    "Grupo de opciones de respuesta\n",
    "\n"
   ]
  },
  {
   "cell_type": "code",
   "execution_count": 3,
   "id": "857ed8cb",
   "metadata": {},
   "outputs": [
    {
     "data": {
      "text/plain": [
       "(0.11000000000000001, 0.05)"
      ]
     },
     "execution_count": 3,
     "metadata": {},
     "output_type": "execute_result"
    }
   ],
   "source": [
    "ubmv = 0.2 - 0.5 * 2 * 0.3**2\n",
    "ucetes = 0.05\n",
    "ubmv, ucetes"
   ]
  },
  {
   "cell_type": "code",
   "execution_count": null,
   "id": "e41746fb",
   "metadata": {},
   "outputs": [],
   "source": []
  }
 ],
 "metadata": {
  "kernelspec": {
   "display_name": "Python 3 (ipykernel)",
   "language": "python",
   "name": "python3"
  },
  "language_info": {
   "codemirror_mode": {
    "name": "ipython",
    "version": 3
   },
   "file_extension": ".py",
   "mimetype": "text/x-python",
   "name": "python",
   "nbconvert_exporter": "python",
   "pygments_lexer": "ipython3",
   "version": "3.9.13"
  }
 },
 "nbformat": 4,
 "nbformat_minor": 5
}
