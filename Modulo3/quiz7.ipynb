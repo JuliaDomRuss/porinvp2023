{
 "cells": [
  {
   "cell_type": "code",
   "execution_count": 1,
   "id": "62039dab",
   "metadata": {},
   "outputs": [
    {
     "data": {
      "text/plain": [
       "0.2640075756488817"
      ]
     },
     "execution_count": 1,
     "metadata": {},
     "output_type": "execute_result"
    }
   ],
   "source": [
    "ws = 6 / 7\n",
    "wf = 1 / 7\n",
    "ss = 0.28\n",
    "sf = 0.35\n",
    "rsf = 0.4\n",
    "sp = ((ws * ss)**2 + (wf * sf)**2 + 2 * ws * wf * rsf * ss * sf)**0.5\n",
    "sp"
   ]
  },
  {
   "cell_type": "code",
   "execution_count": null,
   "id": "221691c4",
   "metadata": {},
   "outputs": [],
   "source": []
  }
 ],
 "metadata": {
  "kernelspec": {
   "display_name": "Python 3 (ipykernel)",
   "language": "python",
   "name": "python3"
  },
  "language_info": {
   "codemirror_mode": {
    "name": "ipython",
    "version": 3
   },
   "file_extension": ".py",
   "mimetype": "text/x-python",
   "name": "python",
   "nbconvert_exporter": "python",
   "pygments_lexer": "ipython3",
   "version": "3.9.13"
  }
 },
 "nbformat": 4,
 "nbformat_minor": 5
}
